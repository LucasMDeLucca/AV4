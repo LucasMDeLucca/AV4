{
 "cells": [
  {
   "cell_type": "code",
   "execution_count": null,
   "id": "3842e72b",
   "metadata": {},
   "outputs": [],
   "source": [
    "import numpy as np\n",
    "import pandas as pd\n",
    "import scipy as scp\n",
    "import itertools as it"
   ]
  },
  {
   "cell_type": "code",
   "execution_count": null,
   "id": "7024d9df",
   "metadata": {},
   "outputs": [],
   "source": [
    "class sys_resolve_atoms(self, n):\n",
    "\n",
    "    def __init__(self, n):\n",
    "        self.matrix = np.zeros((n, n), dtype=float)\n",
    "        self.n = n\n",
    "\n",
    "    def add_matrix(self, matrix):\n",
    "        if matrix.shape[0] != self.matrix.shape[0] or matrix.shape[1] != self.matrix.shape[1]:\n",
    "            raise ValueError(\"Matrix dimensions do not match.\")\n",
    "        self.matrix += matrix\n",
    "\n",
    "    def create_matrix(self, m: list, k: list):\n",
    "\n",
    "        dict_mk = {}\n",
    "\n",
    "        k = {}\n",
    "        \n",
    "        for i in range(self.n):\n",
    "            k[f\"{i+1}{i+2}\"] = k[i]\n",
    "            \n",
    "        for i in it.product(range(self.n), repeat=2):\n",
    "            if (i[0] == 0 and i[1] == 0) or (i[0] == self.n-1 and i[1] == self.n-1):\n",
    "                self.matrix[i[0], i[1]] = (k[i]/m[i])\n",
    "            elif i == j:\n",
    "                self.matrix[i, j] = (k[i]+k[i+1])/m[i]\n",
    "\n",
    "            else:\n",
    "                self.matrix[i, j] = k[i] * k[j]\n",
    "\n",
    "    "
   ]
  },
  {
   "cell_type": "code",
   "execution_count": null,
   "id": "06d0db51",
   "metadata": {},
   "outputs": [],
   "source": [
    "sys_dict = {}\n",
    "\n",
    "def simulate_sys_atoms(n : int):\n",
    "    df = np.zeros((n, n))"
   ]
  }
 ],
 "metadata": {
  "kernelspec": {
   "display_name": "base",
   "language": "python",
   "name": "python3"
  },
  "language_info": {
   "name": "python",
   "version": "3.12.7"
  }
 },
 "nbformat": 4,
 "nbformat_minor": 5
}
